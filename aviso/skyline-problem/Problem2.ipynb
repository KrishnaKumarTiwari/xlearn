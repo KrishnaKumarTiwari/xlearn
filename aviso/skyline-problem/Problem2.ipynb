{
 "cells": [
  {
   "cell_type": "markdown",
   "metadata": {},
   "source": [
    "## Problem #2 Coding logic Challenge \n",
    "\n",
    "### City Skyline"
   ]
  },
  {
   "cell_type": "raw",
   "metadata": {},
   "source": [
    "a. Problem\n",
    "\n",
    "A city skyline can be represented as a 2-D list with 1s representing buildings. In the\n",
    "example below, the height of the tallest building is 4 (second-most right column).\n",
    "\n",
    "[[0, 0, 0, 0, 0, 0],\n",
    "[0, 0, 0, 0, 1, 0],\n",
    "[0, 0, 1, 0, 1, 0],\n",
    "[0, 1, 1, 1, 1, 0],\n",
    "[1, 1, 1, 1, 1, 1]]\n",
    "\n",
    "Create a function that takes a skyline (2-D list of 0's and 1's) and returns\n",
    "\n",
    "1) the height of the tallest skyscraper.\n",
    "2) Location of the sky scrapper\n",
    "3) Impossible constructions like missing floors etc.\n",
    "\n",
    "b. Submission \n",
    "    Python Program File (.py) which can be executed. \n",
    "    \n",
    "c. Evaluation criteria \n",
    "    Elegance of the programming logic. Handling of error cases, modularity of \n",
    "code, adherence to python programming standards etc"
   ]
  },
  {
   "cell_type": "code",
   "execution_count": 249,
   "metadata": {},
   "outputs": [],
   "source": [
    "import numpy as np\n",
    "import matplotlib.pyplot as plt"
   ]
  },
  {
   "cell_type": "code",
   "execution_count": 250,
   "metadata": {},
   "outputs": [],
   "source": [
    "from array import *\n",
    "\n",
    "skyline_2d = [[0, 0, 0, 0, 0, 0],\n",
    "[0, 0, 0, 0, 1, 0],\n",
    "[0, 0, 1, 0, 1, 0],\n",
    "[0, 1, 1, 1, 1, 0],\n",
    "[1, 1, 1, 1, 1, 1]]"
   ]
  },
  {
   "cell_type": "code",
   "execution_count": 251,
   "metadata": {},
   "outputs": [
    {
     "data": {
      "text/plain": [
       "[[0, 0, 0, 0, 0, 0],\n",
       " [0, 0, 0, 0, 1, 0],\n",
       " [0, 0, 1, 0, 1, 0],\n",
       " [0, 1, 1, 1, 1, 0],\n",
       " [1, 1, 1, 1, 1, 1]]"
      ]
     },
     "execution_count": 251,
     "metadata": {},
     "output_type": "execute_result"
    }
   ],
   "source": [
    "skyline_2d"
   ]
  },
  {
   "cell_type": "code",
   "execution_count": 252,
   "metadata": {
    "scrolled": true
   },
   "outputs": [
    {
     "data": {
      "image/png": "[encoded data removed]",
      "text/plain": [
       "<Figure size 432x230.4 with 3 Axes>"
      ]
     },
     "metadata": {
      "needs_background": "light"
     },
     "output_type": "display_data"
    }
   ],
   "source": [
    "fig = plt.figure(figsize=(6, 3.2))\n",
    "\n",
    "ax = fig.add_subplot(111)\n",
    "ax.set_title('colorMap')\n",
    "plt.imshow(T)\n",
    "ax.set_aspect('equal')\n",
    "\n",
    "cax = fig.add_axes([0.12, 0.1, 0.78, 0.8])\n",
    "cax.get_xaxis().set_visible(False)\n",
    "cax.get_yaxis().set_visible(False)\n",
    "cax.patch.set_alpha(0)\n",
    "cax.set_frame_on(False)\n",
    "plt.colorbar(orientation='vertical')\n",
    "plt.show()"
   ]
  },
  {
   "cell_type": "code",
   "execution_count": 253,
   "metadata": {},
   "outputs": [
    {
     "data": {
      "text/plain": [
       "0     True\n",
       "1     True\n",
       "2     True\n",
       "3    False\n",
       "4    False\n",
       "5     True\n",
       "dtype: bool"
      ]
     },
     "execution_count": 253,
     "metadata": {},
     "output_type": "execute_result"
    }
   ],
   "source": [
    "df.apply(lambda x: x.is_monotonic_increasing)"
   ]
  },
  {
   "cell_type": "code",
   "execution_count": 254,
   "metadata": {},
   "outputs": [],
   "source": [
    "def skyline_analyzer(skyline_2d):\n",
    "    height=[]\n",
    "    current_max=0\n",
    "    location_tallest_building =-1\n",
    "    impossible_constructions = []\n",
    "    floor_count=0\n",
    "    found_brick=False\n",
    "    for i in range(len(skyline_2d[0])): \n",
    "        for j in range(len(skyline_2d)): \n",
    "            if(skyline_2d[j][i]==1):\n",
    "                found_brick=True\n",
    "                floor_count+=skyline_2d[j][i]\n",
    "            if(found_brick==True and skyline_2d[j][i]==0) :\n",
    "                impossible_constructions.append(i+1)\n",
    "        if (current_max<floor_count) :\n",
    "            current_max = floor_count\n",
    "            location_tallest_building = i+1\n",
    "        floor_count=0\n",
    "        found_brick=False\n",
    "    print(\"Height of the tallest skyscraper\", current_max)\n",
    "    print(\"Location of the sky scrapper | Tower No \", location_tallest_building)\n",
    "    print(\"Impossible constructions | Tower Nos | \",impossible_constructions)"
   ]
  },
  {
   "cell_type": "code",
   "execution_count": 257,
   "metadata": {},
   "outputs": [],
   "source": [
    "skyline_2d = [[0, 0, 0, 0, 0, 0],\n",
    "[0, 0, 0, 0, 1, 0],\n",
    "[0, 0, 1, 0, 1, 0],\n",
    "[0, 1, 1, 1, 1, 0],\n",
    "[1, 1, 1, 1, 1, 1]]"
   ]
  },
  {
   "cell_type": "code",
   "execution_count": 258,
   "metadata": {},
   "outputs": [
    {
     "name": "stdout",
     "output_type": "stream",
     "text": [
      "Height of the tallest skyscraper 4\n",
      "Location of the sky scrapper | Tower No  5\n",
      "Impossible constructions | Tower Nos |  []\n"
     ]
    }
   ],
   "source": [
    "skyline_analyzer(skyline_2d)"
   ]
  },
  {
   "cell_type": "code",
   "execution_count": 261,
   "metadata": {},
   "outputs": [],
   "source": [
    "skyline_2d = [\n",
    "  [1, 1, 0, 1],\n",
    "  [1, 1, 1, 1],\n",
    "  [1, 1, 0, 0],\n",
    "  [1, 1, 1, 1]\n",
    "]"
   ]
  },
  {
   "cell_type": "code",
   "execution_count": 262,
   "metadata": {},
   "outputs": [
    {
     "name": "stdout",
     "output_type": "stream",
     "text": [
      "Height of the tallest skyscraper 4\n",
      "Location of the sky scrapper | Tower No  1\n",
      "Impossible constructions | Tower Nos |  [4]\n"
     ]
    }
   ],
   "source": [
    "skyline_analyzer(XC)"
   ]
  },
  {
   "cell_type": "code",
   "execution_count": 265,
   "metadata": {},
   "outputs": [
    {
     "name": "stdout",
     "output_type": "stream",
     "text": [
      "Height of the tallest skyscraper 4\n",
      "Location of the sky scrapper | Tower No  1\n",
      "Impossible constructions | Tower Nos |  [3, 4]\n"
     ]
    }
   ],
   "source": [
    "import sys\n",
    "def main(argv):\n",
    "#     argv[0] = [\n",
    "#   [1, 1, 0, 1],\n",
    "#   [1, 1, 1, 1],\n",
    "#   [1, 1, 0, 0],\n",
    "#   [1, 1, 1, 1]\n",
    "# ]\n",
    "    skyline_analyzer(argv[0])\n",
    "\n",
    "\n",
    "if __name__ == \"__main__\":\n",
    "   main(sys.argv[1:])"
   ]
  },
  {
   "cell_type": "code",
   "execution_count": null,
   "metadata": {},
   "outputs": [],
   "source": []
  }
 ],
 "metadata": {
  "kernelspec": {
   "display_name": "Python 3",
   "language": "python",
   "name": "python3"
  },
  "language_info": {
   "codemirror_mode": {
    "name": "ipython",
    "version": 3
   },
   "file_extension": ".py",
   "mimetype": "text/x-python",
   "name": "python",
   "nbconvert_exporter": "python",
   "pygments_lexer": "ipython3",
   "version": "3.7.4"
  }
 },
 "nbformat": 4,
 "nbformat_minor": 2
}
